{
 "cells": [
  {
   "cell_type": "code",
   "execution_count": 53,
   "metadata": {},
   "outputs": [],
   "source": [
    "def label(filename, label, num=3):\n",
    "    with open(filename, 'r') as file:\n",
    "        data = file.read()\n",
    "        points = data.split('\\n')\n",
    "        for i, line in enumerate(points):\n",
    "            points[i] = line + label\n",
    "        result = ''\n",
    "        for a in points:\n",
    "            result += a + '\\n'\n",
    "        with open(filename[:-4] + str(num) + filename[-4:], 'w') as file:\n",
    "            file = file.write(result)"
   ]
  },
  {
   "cell_type": "code",
   "execution_count": 50,
   "metadata": {},
   "outputs": [],
   "source": [
    "label('meteor2.dat', ' meteor')"
   ]
  },
  {
   "cell_type": "code",
   "execution_count": 52,
   "metadata": {},
   "outputs": [],
   "source": [
    "label('plane2.dat', ' plane')"
   ]
  },
  {
   "cell_type": "code",
   "execution_count": 46,
   "metadata": {},
   "outputs": [],
   "source": [
    "def rearrange(filename, label, num=2):\n",
    "    with open(filename, 'r') as file:\n",
    "        data = file.read()\n",
    "        points = data.split('\\n')\n",
    "        print(points)\n",
    "        for i, line in enumerate(points):\n",
    "            points[i] = line[:-len(label)]\n",
    "        result = ''\n",
    "        for a in points:\n",
    "            result += a + '\\n'\n",
    "        with open(filename[:-4] + str(num) + filename[-4:], 'w') as file:\n",
    "            file = file.write(result)"
   ]
  },
  {
   "cell_type": "code",
   "execution_count": 47,
   "metadata": {},
   "outputs": [
    {
     "name": "stdout",
     "output_type": "stream",
     "text": [
      "['11.418367 0.8092 0.9952 2.2442 98 plane', '26.343750 2.4533 0.9949 2.3741 96 plane', '11.228261 0.8322 0.9965 2.2498 92 plane', '13.773196 1.0254 0.9967 2.2628 97 plane', '8.823529 0.7128 0.9005 2.0828 17 plane', '12.312500 0.8539 0.9943 2.2244 80 plane', '13.722222 1.0939 0.9971 2.2818 108 plane', '16.793104 1.3009 0.9968 2.2396 87 plane', '15.301587 0.9483 0.9962 2.2383 63 plane', '14.000000 0.9191 0.9974 2.2554 100 plane', '12.462963 1.0120 0.9876 2.2524 54 plane', '13.000000 0.8610 0.4597 1.9540 6 plane', '18.090910 1.5897 0.9971 2.2796 88 plane', '17.740000 0.7703 0.9972 2.2425 100 plane', '18.213593 0.8059 0.9977 2.2539 103 plane', '16.401869 0.7377 0.9970 2.4061 107 plane', '36.463917 2.3978 0.9974 2.3724 97 plane', '17.928572 0.8333 0.9978 2.2546 98 plane', '16.829786 0.9282 0.9982 2.2526 94 plane', '21.775511 1.0235 0.9981 2.2689 98 plane', '15.398231 0.8356 0.9979 2.2591 113 plane', '15.429629 0.7868 0.9981 2.2758 135 plane', '18.881355 0.8779 0.9976 2.2601 118 plane', '10.569445 0.7650 0.9957 2.3048 72 plane', '16.427586 0.8799 0.9988 2.2822 145 plane', '14.586206 0.7390 0.9962 2.4863 145 plane', '9.846154 0.8998 0.9774 2.2841 26 plane', '16.790697 0.9494 0.9982 2.2746 129 plane', '22.990910 1.0912 0.9985 2.2859 110 plane', '25.793814 1.3078 0.9977 2.2580 97 plane', '19.666666 0.9667 0.9986 2.2574 93 plane', '19.415094 0.9247 0.9987 2.2608 106 plane', '18.573914 0.9996 0.9986 2.2806 115 plane', '13.400000 1.6546 0.8237 2.5989 5 plane', '28.826530 1.5741 0.9983 2.2925 98 plane', '35.631580 1.9353 0.9953 2.3812 95 plane', '24.882759 0.9810 0.9961 2.3058 145 plane', '15.638656 0.7529 0.9981 2.2782 119 plane']\n"
     ]
    }
   ],
   "source": [
    "rearrange('plane.dat', ' plane')"
   ]
  },
  {
   "cell_type": "code",
   "execution_count": null,
   "metadata": {},
   "outputs": [],
   "source": []
  },
  {
   "cell_type": "code",
   "execution_count": 2,
   "metadata": {},
   "outputs": [],
   "source": [
    "def merge(filename, filename2, new_name):\n",
    "    with open(filename) as file1:\n",
    "        text1 = file1.read()\n",
    "        with open(filename2) as file2:\n",
    "            text2 = file2.read()\n",
    "            output = file1 + file2"
   ]
  },
  {
   "cell_type": "code",
   "execution_count": null,
   "metadata": {},
   "outputs": [],
   "source": []
  },
  {
   "cell_type": "code",
   "execution_count": null,
   "metadata": {},
   "outputs": [],
   "source": []
  }
 ],
 "metadata": {
  "kernelspec": {
   "display_name": "Python 3",
   "language": "python",
   "name": "python3"
  },
  "language_info": {
   "codemirror_mode": {
    "name": "ipython",
    "version": 3
   },
   "file_extension": ".py",
   "mimetype": "text/x-python",
   "name": "python",
   "nbconvert_exporter": "python",
   "pygments_lexer": "ipython3",
   "version": "3.5.2"
  }
 },
 "nbformat": 4,
 "nbformat_minor": 2
}
